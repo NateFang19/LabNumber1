{
  "nbformat": 4,
  "nbformat_minor": 0,
  "metadata": {
    "colab": {
      "name": "FirstAssignment.ipynb",
      "provenance": [],
      "authorship_tag": "ABX9TyP9YcMlN7fnI4VDKMj0XKhP"
    },
    "kernelspec": {
      "name": "python3",
      "display_name": "Python 3"
    }
  },
  "cells": [
    {
      "cell_type": "markdown",
      "metadata": {
        "id": "vqjVFELB6C_q",
        "colab_type": "text"
      },
      "source": [
        "# Weather Project"
      ]
    },
    {
      "cell_type": "markdown",
      "metadata": {
        "id": "tVSlQO8Q6HMV",
        "colab_type": "text"
      },
      "source": [
        "### Outline"
      ]
    },
    {
      "cell_type": "markdown",
      "metadata": {
        "id": "VnE-9_UiN65a",
        "colab_type": "text"
      },
      "source": [
        "This is considered our first official lab in SRA 268. For this lab, we were asked to look at data collected regarding the precipitation, snow amount, and temperature from the past three years in the State College area. I decided to look more in depth into the precipitation column of data for this assignment. After looking at all the information, we were asked to insert a sketch on the data we chose to examine. We were then asked to include an explanation after including the sketch."
      ]
    },
    {
      "cell_type": "markdown",
      "metadata": {
        "id": "LKAioO64P40C",
        "colab_type": "text"
      },
      "source": [
        "### Image Sketch\n"
      ]
    },
    {
      "cell_type": "markdown",
      "metadata": {
        "id": "ZrvPETj0lPMm",
        "colab_type": "text"
      },
      "source": [
        "![alt text](https://raw.githubusercontent.com/NateFang19/LabNumber1/master/Images/IMG_6211.jpeg)"
      ]
    },
    {
      "cell_type": "markdown",
      "metadata": {
        "id": "Q8Y9XB5wQFc3",
        "colab_type": "text"
      },
      "source": [
        "### Conclusion"
      ]
    },
    {
      "cell_type": "markdown",
      "metadata": {
        "id": "vxZKdH7lQXx5",
        "colab_type": "text"
      },
      "source": [
        "I decided to look at a subset of data from February of 2018. I looked at three days, 22rd-24th, during the last week of the month. I decided to choose these select days becasue my birthday takes place on the 23rd. During those three days the average precipitation was 0.38 inches per day. The most precipitation during the three day span happened on February 23, while the least precipitation happened on February 22. Snowfall was not included in the average precipitation. The data set shows that was no snowfall during the focused days. The data set also explains that the maximum temperature reached during the selected days was 73, while the minimum reached 34."
      ]
    }
  ]
}